{
 "cells": [
  {
   "cell_type": "code",
   "execution_count": null,
   "metadata": {},
   "outputs": [],
   "source": [
    "import pytorch_lightning as pl\n",
    "from pytorch_lightning import loggers as pl_loggers\n",
    "\n",
    "from vae import VAE, IWAE, LMCVAE\n",
    "from utils import make_dataloaders, get_activations"
   ]
  },
  {
   "cell_type": "code",
   "execution_count": 1,
   "metadata": {},
   "outputs": [],
   "source": [
    "def main(vae_model=\"LMCVAE\"):\n",
    "    tb_logger = pl_loggers.TensorBoardLogger('lightning_logs/') \n",
    "\n",
    "    act_func = get_activations()\n",
    "    kwargs = {'num_workers': 20, 'pin_memory': True}\n",
    "    train_loader, val_loader = make_dataloaders(dataset='cifar',\n",
    "                                                batch_size=32,\n",
    "                                                val_batch_size=50,\n",
    "                                                binarize=False,\n",
    "                                                **kwargs)\n",
    "    image_shape = train_loader.dataset.shape_size\n",
    "    if vae_model == \"VAE\":\n",
    "        model = VAE(shape=image_shape, act_func=act_func[\"gelu\"],\n",
    "                    num_samples=1, hidden_dim=64,\n",
    "                    net_type=\"conv\", dataset='cifar', specific_likelihood=None,\n",
    "                    sigma=1.)\n",
    "    elif vae_model == \"IWAE\":\n",
    "        model = IWAE(shape=image_shape, act_func=act_func[\"gelu\"], num_samples=1,\n",
    "                     hidden_dim=64,\n",
    "                     name=vae_model, net_type=\"conv\", dataset='cifar',\n",
    "                     specific_likelihood=None, sigma=1.)\n",
    "    elif vae_model == 'LMCVAE':\n",
    "        model = LMCVAE(shape=image_shape, step_size=0.01, K=3,\n",
    "                       num_samples=1, acceptance_rate_target=0.95,\n",
    "                       dataset='cifar', net_type=\"conv\", act_func=act_func[\"gelu\"],\n",
    "                       hidden_dim=64, name=vae_model, grad_skip_val=0.,\n",
    "                       grad_clip_val=0., use_score_matching=False,\n",
    "                       use_cloned_decoder=False, learnable_transitions=False,\n",
    "                       variance_sensitive_step=False,\n",
    "                       ula_skip_threshold=0., annealing_scheme='linear',\n",
    "                       specific_likelihood=None, sigma=1.)\n",
    "    else:\n",
    "        raise ValueError\n",
    "\n",
    "\n",
    "    trainer = pl.Trainer(max_epochs=50, logger=tb_logger, fast_dev_run=False)\n",
    "    pl.Trainer()\n",
    "    trainer.fit(model, train_dataloaders=train_loader, val_dataloaders=val_loader)"
   ]
  },
  {
   "cell_type": "code",
   "execution_count": null,
   "metadata": {},
   "outputs": [],
   "source": [
    "main()"
   ]
  }
 ],
 "metadata": {
  "kernelspec": {
   "display_name": ".venv",
   "language": "python",
   "name": "python3"
  },
  "language_info": {
   "codemirror_mode": {
    "name": "ipython",
    "version": 3
   },
   "file_extension": ".py",
   "mimetype": "text/x-python",
   "name": "python",
   "nbconvert_exporter": "python",
   "pygments_lexer": "ipython3",
   "version": "3.10.12"
  }
 },
 "nbformat": 4,
 "nbformat_minor": 2
}
