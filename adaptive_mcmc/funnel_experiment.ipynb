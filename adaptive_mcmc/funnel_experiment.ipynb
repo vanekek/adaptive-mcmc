{
 "cells": [
  {
   "cell_type": "code",
   "execution_count": null,
   "metadata": {},
   "outputs": [],
   "source": [
    "import torch\n",
    "import torch.nn as nn\n",
    "import torch.nn.functional as F\n",
    "import os\n",
    "import random\n",
    "\n",
    "from torch.utils.data import Dataset, DataLoader\n",
    "import matplotlib.pyplot as plt\n",
    "import seaborn as sns\n",
    "from vae import Base, LMCVAE\n",
    "from samplers import HMC, run_chain\n",
    "from distributions import (\n",
    "    Banana,\n",
    "    Funnel\n",
    ")\n",
    "#import yaml\n",
    "import numpy as np\n",
    "\n",
    "import pytorch_lightning as pl\n",
    "from pytorch_lightning import loggers as pl_loggers\n",
    "\n",
    "%matplotlib widget"
   ]
  },
  {
   "cell_type": "code",
   "execution_count": null,
   "metadata": {},
   "outputs": [],
   "source": [
    "def seed_everything(seed=42):\n",
    "    random.seed(seed)\n",
    "    os.environ['PYTHONHASHSEED'] = str(seed)\n",
    "    np.random.seed(seed)\n",
    "    torch.manual_seed(seed)\n",
    "    torch.cuda.manual_seed(seed)\n",
    "    torch.cuda.manual_seed_all(seed)\n",
    "    torch.backends.cudnn.deterministic = True\n",
    "    torch.backends.cudnn.benchmark = False"
   ]
  },
  {
   "cell_type": "code",
   "execution_count": null,
   "metadata": {},
   "outputs": [],
   "source": [
    "device = torch.device(\"cuda:1\" if torch.cuda.is_available() else \"cpu\")"
   ]
  },
  {
   "cell_type": "code",
   "execution_count": null,
   "metadata": {},
   "outputs": [],
   "source": [
    "n_steps = 1\n",
    "dist = \"banana\"\n",
    "dim = 50\n",
    "scale_proposal = 1.\n",
    "scale_isir = 5.\n",
    "dist_class = \"Banana\"\n",
    "dist_params = {\n",
    "    \"b\": 0.02,\n",
    "    \"sigma\":5.0,\n",
    "}\n",
    "sigma = 4\n",
    "b = 0.02"
   ]
  },
  {
   "cell_type": "code",
   "execution_count": null,
   "metadata": {},
   "outputs": [],
   "source": [
    "# Данные\n",
    "target = Funnel(\n",
    "                dim=dim,\n",
    "                device=device,\n",
    "                b = b,\n",
    "                sigma = sigma,\n",
    "                #b = b\n",
    "                #**dist_params.dict,\n",
    ")\n",
    "\n",
    "loc_proposal = torch.zeros(dim).to(device)\n",
    "scale_proposal = scale_proposal * torch.ones(dim).to(device)\n",
    "scale_isir = scale_isir * torch.ones(dim).to(device)\n",
    "\n",
    "# proposal = IndependentNormal(\n",
    "#     dim=dim,\n",
    "#     loc=loc_proposal,\n",
    "#     scale=scale_proposal,\n",
    "#     device=device,\n",
    "# )\n",
    "\n",
    "# proposal_ex2 = IndependentNormal(\n",
    "#     dim=dim,\n",
    "#     loc=loc_proposal,\n",
    "#     scale=scale_isir,\n",
    "#     device=device,\n",
    "# )"
   ]
  },
  {
   "cell_type": "code",
   "execution_count": null,
   "metadata": {},
   "outputs": [],
   "source": [
    "class Banana_Dataset(Dataset):\n",
    "    def __init__(self, data):\n",
    "        super(Banana_Dataset, self).__init__()\n",
    "        self.data = data\n",
    "\n",
    "    def __len__(self):\n",
    "        return len(self.data)\n",
    "\n",
    "    def __getitem__(self, item):\n",
    "        sample = torch.tensor(self.data[item], dtype=torch.float32, device=device)\n",
    "        return sample, -1."
   ]
  },
  {
   "cell_type": "markdown",
   "metadata": {},
   "source": [
    "## Generate ground-truth samples"
   ]
  },
  {
   "cell_type": "code",
   "execution_count": null,
   "metadata": {},
   "outputs": [],
   "source": [
    "N_samples = 2*10**4\n",
    "np.random.seed(42)\n",
    "True_samples = np.random.randn(N_samples,dim)\n",
    "for i in range(dim):\n",
    "    if i % 2 == 0:\n",
    "      True_samples[:,i] *= sigma\n",
    "    else:\n",
    "      True_samples[:,i] += b*True_samples[:,i-1]**2 - (sigma**2)*b"
   ]
  },
  {
   "cell_type": "code",
   "execution_count": null,
   "metadata": {},
   "outputs": [],
   "source": [
    "fig,ax=plt.subplots(1,1)\n",
    "#cp = ax.contourf(X, Y, dens_vals)\n",
    "#fig.colorbar(cp) # Add a colorbar to a plot\n",
    "ax.scatter(True_samples[:,0],True_samples[:,1], alpha=0.5)\n",
    "ax.set_title('Ground truth samples')\n",
    "plt.show()"
   ]
  },
  {
   "cell_type": "code",
   "execution_count": null,
   "metadata": {},
   "outputs": [],
   "source": []
  },
  {
   "cell_type": "code",
   "execution_count": null,
   "metadata": {},
   "outputs": [],
   "source": []
  },
  {
   "cell_type": "code",
   "execution_count": null,
   "metadata": {},
   "outputs": [],
   "source": []
  },
  {
   "cell_type": "code",
   "execution_count": null,
   "metadata": {},
   "outputs": [],
   "source": []
  },
  {
   "cell_type": "code",
   "execution_count": null,
   "metadata": {},
   "outputs": [],
   "source": []
  },
  {
   "cell_type": "code",
   "execution_count": null,
   "metadata": {},
   "outputs": [],
   "source": []
  },
  {
   "cell_type": "code",
   "execution_count": null,
   "metadata": {},
   "outputs": [],
   "source": []
  },
  {
   "cell_type": "code",
   "execution_count": null,
   "metadata": {},
   "outputs": [],
   "source": []
  },
  {
   "cell_type": "code",
   "execution_count": null,
   "metadata": {},
   "outputs": [],
   "source": []
  },
  {
   "cell_type": "code",
   "execution_count": null,
   "metadata": {},
   "outputs": [],
   "source": []
  },
  {
   "cell_type": "code",
   "execution_count": null,
   "metadata": {},
   "outputs": [],
   "source": []
  },
  {
   "cell_type": "code",
   "execution_count": null,
   "metadata": {},
   "outputs": [],
   "source": []
  },
  {
   "cell_type": "code",
   "execution_count": null,
   "metadata": {},
   "outputs": [],
   "source": []
  }
 ],
 "metadata": {
  "language_info": {
   "name": "python"
  }
 },
 "nbformat": 4,
 "nbformat_minor": 2
}
